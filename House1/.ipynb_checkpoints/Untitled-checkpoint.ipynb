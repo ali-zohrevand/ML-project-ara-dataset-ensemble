{
 "cells": [
  {
   "cell_type": "code",
   "execution_count": 2,
   "metadata": {},
   "outputs": [
    {
     "name": "stdout",
     "output_type": "stream",
     "text": [
      "Te1          -0.381374\n",
      "daySection   -0.288068\n",
      "So2          -0.047134\n",
      "Co3          -0.044292\n",
      "Co1          -0.036000\n",
      "Ph3          -0.034756\n",
      "Ph2          -0.021855\n",
      "Co2          -0.016648\n",
      "Ph4          -0.014138\n",
      "Ph5          -0.010319\n",
      "So1          -0.004118\n",
      "Ir1           0.003971\n",
      "Ph6           0.020968\n",
      "Di1           0.030594\n",
      "Ph1           0.074648\n",
      "Fo2           0.081027\n",
      "Di2           0.085006\n",
      "Fo1           0.158653\n",
      "activity2     0.166184\n",
      "Fo3           0.197318\n",
      "Di3           0.277884\n",
      "Di4           0.299726\n",
      "activity1     1.000000\n",
      "Name: activity1, dtype: float64\n"
     ]
    },
    {
     "data": {
      "image/png": "[encoded data removed]",
      "text/plain": [
       "<Figure size 432x288 with 1 Axes>"
      ]
     },
     "metadata": {
      "needs_background": "light"
     },
     "output_type": "display_data"
    }
   ],
   "source": [
    "import seaborn as sns\n",
    "import matplotlib.pyplot as plt\n",
    "import pandas as pd\n",
    "columnsString = \"daySection,Ph1,Ph2,Ir1,Fo1,Fo2,Di3,Di4,Ph3,Ph4,Ph5,Ph6,Co1,Co2,Co3,So1,So2,Di1,Di2,Te1,Fo3,activity1,activity2\"\n",
    "col_names = columnsString.split(\",\")\n",
    "dataset = pd.read_csv(f\"DAY_1.csv\", header=None, names=col_names)\n",
    "print(dataset.corr()['activity1'].sort_values())\n",
    "plot=sns.scatterplot(x=\"activity1\",y=\"Di3\",data=dataset)\n",
    "\n",
    "\n",
    "#\n",
    "# df = pd.read_csv(\"DAY_1.csv\")\n",
    "# print()\n",
    "# # plot=sns.pairplot(pima)\n",
    "# # plot.savefig(\"output.png\")\n",
    "#\n"
   ]
  },
  {
   "cell_type": "code",
   "execution_count": null,
   "metadata": {},
   "outputs": [],
   "source": []
  }
 ],
 "metadata": {
  "kernelspec": {
   "display_name": "Python 3",
   "language": "python",
   "name": "python3"
  },
  "language_info": {
   "codemirror_mode": {
    "name": "ipython",
    "version": 3
   },
   "file_extension": ".py",
   "mimetype": "text/x-python",
   "name": "python",
   "nbconvert_exporter": "python",
   "pygments_lexer": "ipython3",
   "version": "3.8.5"
  }
 },
 "nbformat": 4,
 "nbformat_minor": 4
}
